{
 "cells": [
  {
   "cell_type": "code",
   "execution_count": 1,
   "metadata": {},
   "outputs": [],
   "source": [
    "import pandas as pd\n",
    "from scipy.stats import shapiro,kstest"
   ]
  },
  {
   "cell_type": "code",
   "execution_count": 2,
   "metadata": {},
   "outputs": [],
   "source": [
    "#脱ブタン塔のプロセスデータを読み込む\n",
    "df = pd.read_csv('debutanizer_data.csv')"
   ]
  },
  {
   "cell_type": "code",
   "execution_count": 3,
   "metadata": {},
   "outputs": [],
   "source": [
    "# 結果を格納するデータフレームを作成\n",
    "results = pd.DataFrame(columns=['column', 'pvalue', 'sample_size'])\n",
    "\n",
    "# シャピロ・ウィルク検定\n",
    "for col in df.columns:\n",
    "    df_col = df[col].dropna()\n",
    "    result = shapiro(df_col)\n",
    "    pvalue = result[1]\n",
    "    sample_size = len(df_col)\n",
    "    \n",
    "    # 結果をデータフレームに追加\n",
    "    results = results.append({'column': col, 'pvalue': pvalue, 'sample_size': sample_size}, ignore_index=True)\n",
    "\n",
    "# データフレームをエクセルに保存\n",
    "results.to_excel('shapiro_wilk_test_results_debutanizer.xlsx', index=False)"
   ]
  },
  {
   "cell_type": "code",
   "execution_count": 4,
   "metadata": {},
   "outputs": [],
   "source": [
    "# 結果を格納するデータフレームを作成\n",
    "results = pd.DataFrame(columns=['column', 'pvalue', 'sample_size'])\n",
    "\n",
    "# コルモゴロフ・スミルノフ検定\n",
    "for col in df.columns:\n",
    "    df_col = df[col].dropna()\n",
    "    \n",
    "    # データの平均と標準偏差を計算\n",
    "    mean = df_col.mean()\n",
    "    std = df_col.std(ddof=1)\n",
    "    \n",
    "    # 標準正規分布の平均と標準偏差を調整して検定\n",
    "    result = kstest(df_col, 'norm', args=(mean, std))\n",
    "    pvalue = result[1]\n",
    "    sample_size = len(df_col)\n",
    "    \n",
    "    # 結果をデータフレームに追加\n",
    "    results = results.append({'column': col, 'pvalue': pvalue, 'sample_size': sample_size}, ignore_index=True)\n",
    "\n",
    "# データフレームをエクセルに保存\n",
    "results.to_excel('kolmogorov_smirnov_test_results_debutanizer.xlsx', index=False)"
   ]
  },
  {
   "cell_type": "code",
   "execution_count": null,
   "metadata": {},
   "outputs": [],
   "source": []
  }
 ],
 "metadata": {
  "kernelspec": {
   "display_name": "Python 3",
   "language": "python",
   "name": "python3"
  },
  "language_info": {
   "codemirror_mode": {
    "name": "ipython",
    "version": 3
   },
   "file_extension": ".py",
   "mimetype": "text/x-python",
   "name": "python",
   "nbconvert_exporter": "python",
   "pygments_lexer": "ipython3",
   "version": "3.9.2"
  }
 },
 "nbformat": 4,
 "nbformat_minor": 2
}
